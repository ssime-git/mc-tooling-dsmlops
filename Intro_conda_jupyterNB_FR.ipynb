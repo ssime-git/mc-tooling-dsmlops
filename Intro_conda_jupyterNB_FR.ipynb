{
 "cells": [
  {
   "cell_type": "markdown",
   "id": "0abd4114",
   "metadata": {},
   "source": [
    "# Anaconda Vs Miniconda\n",
    "\n",
    "Une petite comparaison entre Miniconda et Anaconda:\n",
    "\n",
    "| Caractéristique        | Miniconda                                   | Anaconda                                      |\n",
    "|------------------------|---------------------------------------------|-----------------------------------------------|\n",
    "| **Taille de l'installation** | Petit (Moins de 100MB)                      | Grand (Plusieurs GB, selon les packages)      |\n",
    "| **Contenu**            | - Conda (gestionnaire de paquets et d'environnements)  | - Conda + <br> - Plus de 250 paquets scientifiques et de traitement de données par défaut |\n",
    "| **Paquets par défaut** | Aucun paquet supplémentaire n'est installé par défaut | Contient un grand nombre de paquets scientifiques populaires (comme NumPy, Pandas, Jupyter, etc.) |\n",
    "| **Utilisation**        | Vous installez manuellement les paquets dont vous avez besoin | Prêt à l'emploi pour la plupart des tâches scientifiques et d'analyse de données |\n",
    "| **Taille après l'installation** | La taille dépend des paquets que vous choisissez d'installer ultérieurement | Typiquement plus grand en raison du grand nombre de paquets installés |\n",
    "| **Idéal pour**         | Utilisateurs avancés, installations légères, serveurs, conteneurs, ou lorsque l'espace est une préoccupation | Nouveaux utilisateurs, éducation, ateliers, et lorsque vous souhaitez avoir un ensemble de paquets scientifiques et de traitement de données prêt à l'emploi |\n",
    "\n",
    "La principale distinction est qu'Anaconda est une distribution qui comprend Conda, un grand nombre de paquets scientifiques, et d'autres outils, tandis que Miniconda n'inclut que Conda et dépend de l'utilisateur pour installer les paquets nécessaires."
   ]
  },
  {
   "cell_type": "markdown",
   "id": "e6f5f579-7266-4163-a81a-36242dbf1a77",
   "metadata": {},
   "source": [
    "# Setup de l'environnement\n",
    "\n",
    "## Etape 1:\n",
    "Ouvrir le terminal.\n",
    "\n",
    "## Etape 2:\n",
    "Liste des environnements conda disponibles:\n",
    "\n",
    "```bash\n",
    "conda env list\n",
    "```\n",
    "\n",
    "## Etape 3:\n",
    "Activer l'environnement:\n",
    "\n",
    "```bash\n",
    "# créer un environement\n",
    "conda create --name mon_env python=3.8\n",
    "\n",
    "# activer\n",
    "conda activate env_name\n",
    "```\n",
    "\n",
    "## Etape 5:\n",
    "Lister les packages:\n",
    "\n",
    "```bash\n",
    "conda list\n",
    "```\n",
    "\n",
    "## Installation et lancement de jupyter notebook et de jupyter lab\n",
    "\n",
    "```bash\n",
    "# install jupyter\n",
    "conda install jupyter\n",
    "\n",
    "# install jupyterlab\n",
    "conda install jupyterlab\n",
    "\n",
    "# lancement de jupyter notebook\n",
    "jupyter notebook\n",
    "\n",
    "# lancement de jupyter lab\n",
    "jupyter lab\n",
    "```\n",
    "\n",
    "## Création de kernel\n",
    "\n",
    "```bash\n",
    "# création de kernel (avec un environnement)\n",
    "python -m ipykernel install --user --name env_name\n",
    "\n",
    "# création de kernel (sans environnement) Bien penser à activer l'environnement au premier lancement\n",
    "python -m ipykernel\n",
    "```\n",
    "\n",
    "La différence entre un kernel et environnement:\n",
    "\n",
    "* Un **kernel** est une interface qui permet à des outils comme Jupyter d'exécuter du code dans un langage de programmation spécifique. \n",
    "\n",
    "* Un **environnement** est un espace isolé contenant un ensemble défini de paquets, qui peut avoir son propre kernel associé (par exemple, un environnement Conda avec Python 3.8 peut avoir un kernel Jupyter associé qui utilise ce Python 3.8).\n",
    "\n",
    "C'est donc est un répertoire autonome qui contient une version spécifique de Python et tous les packages supplémentaires que vous avez installés. Il vous permet de créer des environnements isolés avec différentes versions de Python et différents packages installés dans chaque environnement.\n",
    "\n",
    "## Qu'est ce qu'un kernel (ou noyau)\n",
    "\n",
    "Le package ipykernel est un package Python qui fournit le noyau IPython pour les notebooks Jupyter. Il est nécessaire d'installer ipykernel si vous voulez utiliser Jupyter Notebook ou Jupyter Lab avec un environnement virtuel créé en utilisant conda prompt de mini conda.\n",
    "\n",
    "Lorsque vous installez ipykernel, il crée un noyau qui peut être utilisé par Jupyter Notebook ou Jupyter Lab pour exécuter du code dans l'environnement virtuel. Cela vous permet d'utiliser les packages installés dans l'environnement virtuel dans vos notebooks Jupyter.\n",
    "\n",
    "Dans le contexte de Jupyter Notebook ou Jupyter Lab, un **noyau** est un moteur de calcul qui exécute le code dans un document de notebook. Il prend en charge plusieurs langages de programmation et vous permet d'interagir avec le document de notebook en utilisant ce langage.\n",
    "\n",
    "Lorsque vous créez un nouvel environnement virtuel en utilisant conda prompt de mini conda, il crée un nouveau répertoire avec son propre exécutable Python et ses packages. Vous pouvez ensuite activer cet environnement pour utiliser cette version spécifique de Python et ces packages dans votre terminal ou Anaconda prompt.\n",
    "\n",
    "Lorsque vous installez `ipykernel` dans un environnement, il crée un noyau qui peut être utilisé par Jupyter Notebook ou Jupyter Lab pour exécuter du code dans cet environnement. Cela vous permet d'utiliser les packages installés dans l'environnement dans vos notebooks Jupyter.\n",
    "\n",
    "\n"
   ]
  },
  {
   "cell_type": "markdown",
   "id": "a1e48704-30e4-4b0c-b3d0-d7963e983de0",
   "metadata": {},
   "source": [
    "## Pourquoi créer des kernels différents?\n",
    "\n",
    "Créer des kernels différents est utile pour plusieurs raisons:\n",
    "\n",
    "- **Flexibilité**: Vous pouvez utiliser différents langages de programmation et versions de Python dans vos notebooks Jupyter, en fonction du kernel que vous choisissez. Par exemple, vous pouvez avoir un kernel Python 3.8 pour un notebook et un kernel Python 3.9 pour un autre notebook.\n",
    "\n",
    "- **Isolation**: Vous pouvez installer des packages spécifiques à chaque kernel, sans affecter les autres kernels ou l'environnement de base. Par exemple, vous pouvez avoir un kernel avec scikit-learn 1.3.2 et un autre kernel avec scikit-learn 1.2.1.\n",
    "\n",
    "- **Reproductibilité**: Vous pouvez partager vos notebooks Jupyter avec d'autres utilisateurs, en leur indiquant le kernel associé à chaque notebook. Ainsi, ils pourront exécuter le code dans les mêmes conditions que vous.\n",
    "\n",
    "Dans un environnement virtuel, chaque kernel est associé à un environnement Python spécifique. Lorsque vous créez un nouveau kernel, vous pouvez spécifier l'environnement Python que vous souhaitez utiliser pour ce kernel. Par défaut, le kernel est créé dans l'environnement de base de votre installation de Python.\n",
    "\n",
    "Lorsque vous exécutez du code dans un notebook Jupyter, le kernel associé à ce notebook est utilisé pour exécuter le code. Si vous avez plusieurs kernels dans le même environnement virtuel, vous pouvez choisir le kernel à utiliser pour chaque notebook.\n",
    "\n",
    "Pour gérer les kernels dans un environnement virtuel, vous pouvez utiliser la commande `conda` suivie de l'option `install` pour installer un nouveau kernel, ou de l'option `remove` pour supprimer un kernel existant. Vous pouvez également utiliser la commande `jupyter kernelspec list` pour afficher une liste des kernels installés dans votre environnement virtuel.\n",
    "\n",
    "Pour résumer, Un kernel est simplement un programme qui exécute le code Python dans un environnement spécifique. Il n’a pas besoin d’être stocké dans un sous-dossier de l’environnement virtuel, mais plutôt dans un répertoire spécifique à Jupyter.\n"
   ]
  },
  {
   "cell_type": "markdown",
   "id": "4c21ef49-9ab5-4c5e-91fd-92ff5ac978e6",
   "metadata": {},
   "source": [
    "# Installation de packages depuis un Jupyter Notebook\n",
    "\n",
    "Installlation depuis un jupyter notebook."
   ]
  },
  {
   "cell_type": "code",
   "execution_count": null,
   "id": "5f8f21f5-0b86-4f79-a250-639f99957d17",
   "metadata": {
    "tags": []
   },
   "outputs": [],
   "source": [
    "!pip install pandas"
   ]
  },
  {
   "cell_type": "code",
   "execution_count": null,
   "id": "5849e85f-9e97-4b85-ad6b-f010278518e1",
   "metadata": {
    "tags": []
   },
   "outputs": [],
   "source": [
    "# install sklearn\n",
    "!pip install scikit-learn"
   ]
  },
  {
   "cell_type": "code",
   "execution_count": 6,
   "id": "f27a7b57-68de-402e-b3c7-8396a4ee2ed6",
   "metadata": {
    "tags": []
   },
   "outputs": [],
   "source": [
    "# import pandas\n",
    "import pandas as pd"
   ]
  },
  {
   "cell_type": "code",
   "execution_count": 9,
   "id": "3f8e48cf-7aae-4ff8-9a60-1840186d1d20",
   "metadata": {
    "tags": []
   },
   "outputs": [
    {
     "name": "stdout",
     "output_type": "stream",
     "text": [
      "['sepal length (cm)', 'sepal width (cm)', 'petal length (cm)', 'petal width (cm)']\n"
     ]
    }
   ],
   "source": [
    "# load a dataset from sklearn\n",
    "from sklearn.datasets import load_iris\n",
    "\n",
    "# load dataset\n",
    "iris = load_iris()\n",
    "\n",
    "# print the names of the features\n",
    "print(iris.feature_names)"
   ]
  },
  {
   "cell_type": "code",
   "execution_count": 34,
   "id": "93392c87-f366-46e2-8555-e3111d2b0862",
   "metadata": {
    "tags": []
   },
   "outputs": [
    {
     "data": {
      "text/html": [
       "<div>\n",
       "<style scoped>\n",
       "    .dataframe tbody tr th:only-of-type {\n",
       "        vertical-align: middle;\n",
       "    }\n",
       "\n",
       "    .dataframe tbody tr th {\n",
       "        vertical-align: top;\n",
       "    }\n",
       "\n",
       "    .dataframe thead th {\n",
       "        text-align: right;\n",
       "    }\n",
       "</style>\n",
       "<table border=\"1\" class=\"dataframe\">\n",
       "  <thead>\n",
       "    <tr style=\"text-align: right;\">\n",
       "      <th></th>\n",
       "      <th>sepal length (cm)</th>\n",
       "      <th>sepal width (cm)</th>\n",
       "      <th>petal length (cm)</th>\n",
       "      <th>petal width (cm)</th>\n",
       "    </tr>\n",
       "  </thead>\n",
       "  <tbody>\n",
       "    <tr>\n",
       "      <th>0</th>\n",
       "      <td>5.1</td>\n",
       "      <td>3.5</td>\n",
       "      <td>1.4</td>\n",
       "      <td>0.2</td>\n",
       "    </tr>\n",
       "    <tr>\n",
       "      <th>1</th>\n",
       "      <td>4.9</td>\n",
       "      <td>3.0</td>\n",
       "      <td>1.4</td>\n",
       "      <td>0.2</td>\n",
       "    </tr>\n",
       "    <tr>\n",
       "      <th>2</th>\n",
       "      <td>4.7</td>\n",
       "      <td>3.2</td>\n",
       "      <td>1.3</td>\n",
       "      <td>0.2</td>\n",
       "    </tr>\n",
       "    <tr>\n",
       "      <th>3</th>\n",
       "      <td>4.6</td>\n",
       "      <td>3.1</td>\n",
       "      <td>1.5</td>\n",
       "      <td>0.2</td>\n",
       "    </tr>\n",
       "    <tr>\n",
       "      <th>4</th>\n",
       "      <td>5.0</td>\n",
       "      <td>3.6</td>\n",
       "      <td>1.4</td>\n",
       "      <td>0.2</td>\n",
       "    </tr>\n",
       "  </tbody>\n",
       "</table>\n",
       "</div>"
      ],
      "text/plain": [
       "   sepal length (cm)  sepal width (cm)  petal length (cm)  petal width (cm)\n",
       "0                5.1               3.5                1.4               0.2\n",
       "1                4.9               3.0                1.4               0.2\n",
       "2                4.7               3.2                1.3               0.2\n",
       "3                4.6               3.1                1.5               0.2\n",
       "4                5.0               3.6                1.4               0.2"
      ]
     },
     "execution_count": 34,
     "metadata": {},
     "output_type": "execute_result"
    }
   ],
   "source": [
    "# convert iris dataset to pandas dataframe\n",
    "df = pd.DataFrame(iris.data, columns=iris.feature_names)\n",
    "\n",
    "# print the first 5 rows of the dataframe\n",
    "df.head()"
   ]
  },
  {
   "cell_type": "code",
   "execution_count": null,
   "id": "c8c83066-f18c-47c9-b70c-7f0c7a729cf0",
   "metadata": {
    "tags": []
   },
   "outputs": [],
   "source": [
    "# list packages installed\n",
    "!conda list"
   ]
  },
  {
   "cell_type": "markdown",
   "id": "b67bc416-87ad-4621-96eb-0441e57ce85d",
   "metadata": {
    "tags": []
   },
   "source": [
    "## Différences entre pip et conda\n",
    "\n",
    "Il est également possible d'utiliser les commandes `pip` pour lister et installer des packages.\n",
    "\n",
    "`pip` et `conda` sont tous deux des gestionnaires de paquets pour Python, mais ils présentent des différences majeures dans leur conception, leur fonctionnalité et leur usage. Voici un tableau comparatif pour souligner certaines de ces différences :\n",
    "\n",
    "| Caractéristique              | pip                                         | conda                                       |\n",
    "|-----------------------------|---------------------------------------------|---------------------------------------------|\n",
    "| **Nature**                  | Gestionnaire de paquets pour Python.        | Gestionnaire de paquets et système de gestion d'environnements, principalement pour Python mais aussi pour d'autres langages. |\n",
    "| **Source des paquets**      | PyPI (Python Package Index).                | Les canaux Conda, avec `conda-forge` étant un canal populaire.   |\n",
    "| **Format des paquets**      | Wheels (`*.whl`) ou sdist.                  | Binaires conda (`*.tar.bz2`).               |\n",
    "| **Dépendances**             | Gère les dépendances Python.                | Gère les dépendances à la fois au niveau du langage et du système. Par exemple, `conda` peut installer des paquets non-Python comme `gcc` ou des bibliothèques système. |\n",
    "| **Environnements virtuels** | Doit être utilisé avec `virtualenv` ou `venv` pour gérer les environnements virtuels. | Intègre son propre système de gestion d'environnements. |\n",
    "| **Plateformes**             | Fonctionne principalement sur Python.       | Fonctionne avec Python et d'autres langages et plateformes. |\n",
    "| **Installation de paquets non-Python** | Limité, car c'est spécifique à Python. | Peut installer des paquets non-Python, comme des outils de ligne de commande ou des bibliothèques écrites en C, C++, etc. |\n",
    "| **Intégration avec les systèmes** | Moins intégré avec des systèmes comme Anaconda ou Miniconda. | Est le gestionnaire de paquets principal pour les systèmes Anaconda et Miniconda. |\n",
    "| **Provenance**              | Projet open source de la Software Freedom Conservancy. | Projet open source développé par Anaconda, Inc. |\n",
    "\n",
    "En résumé :\n",
    "- `pip` est un gestionnaire de paquets spécifiquement pour Python et est idéal pour les bibliothèques et les cadres qui sont purement Python.\n",
    "- `conda` est un gestionnaire de paquets et d'environnements plus général qui gère non seulement les paquets Python, mais aussi les dépendances au niveau du système, ce qui le rend idéal pour les projets qui ont des dépendances complexes ou qui nécessitent des bibliothèques non-Python."
   ]
  },
  {
   "cell_type": "code",
   "execution_count": 19,
   "id": "3ae82af7",
   "metadata": {
    "tags": []
   },
   "outputs": [
    {
     "name": "stdout",
     "output_type": "stream",
     "text": [
      "Package               Version\n",
      "--------------------- ------------\n",
      "aiofiles              22.1.0\n",
      "aiosqlite             0.18.0\n",
      "anyio                 3.5.0\n",
      "argon2-cffi           21.3.0\n",
      "argon2-cffi-bindings  21.2.0\n",
      "asttokens             2.0.5\n",
      "attrs                 23.1.0\n",
      "Babel                 2.11.0\n",
      "backcall              0.2.0\n",
      "beautifulsoup4        4.12.2\n",
      "bleach                4.1.0\n",
      "Brotli                1.0.9\n",
      "certifi               2023.7.22\n",
      "cffi                  1.15.1\n",
      "charset-normalizer    2.0.4\n",
      "colorama              0.4.6\n",
      "comm                  0.1.2\n",
      "cryptography          41.0.3\n",
      "debugpy               1.6.7\n",
      "decorator             5.1.1\n",
      "defusedxml            0.7.1\n",
      "entrypoints           0.4\n",
      "executing             0.8.3\n",
      "fastjsonschema        2.16.2\n",
      "idna                  3.4\n",
      "ipykernel             6.25.0\n",
      "ipython               8.15.0\n",
      "ipython-genutils      0.2.0\n",
      "ipywidgets            8.0.4\n",
      "jedi                  0.18.1\n",
      "Jinja2                3.1.2\n",
      "joblib                1.3.2\n",
      "json5                 0.9.6\n",
      "jsonschema            4.17.3\n",
      "jupyter               1.0.0\n",
      "jupyter_client        7.4.9\n",
      "jupyter-console       6.6.3\n",
      "jupyter_core          5.3.0\n",
      "jupyter-events        0.6.3\n",
      "jupyter-server        1.23.4\n",
      "jupyter_server_fileid 0.9.0\n",
      "jupyter_server_ydoc   0.8.0\n",
      "jupyter-ydoc          0.2.4\n",
      "jupyterlab            3.6.6\n",
      "jupyterlab-pygments   0.1.2\n",
      "jupyterlab_server     2.22.0\n",
      "jupyterlab-widgets    3.0.5\n",
      "lxml                  4.9.3\n",
      "MarkupSafe            2.1.1\n",
      "matplotlib-inline     0.1.6\n",
      "mistune               0.8.4\n",
      "nbclassic             0.5.5\n",
      "nbclient              0.5.13\n",
      "nbconvert             6.5.4\n",
      "nbformat              5.9.2\n",
      "nest-asyncio          1.5.6\n",
      "notebook              6.5.4\n",
      "notebook_shim         0.2.2\n",
      "numpy                 1.26.1\n",
      "packaging             23.1\n",
      "pandas                2.1.1\n",
      "pandocfilters         1.5.0\n",
      "parso                 0.8.3\n",
      "pickleshare           0.7.5\n",
      "pip                   23.3\n",
      "platformdirs          3.10.0\n",
      "ply                   3.11\n",
      "prometheus-client     0.14.1\n",
      "prompt-toolkit        3.0.36\n",
      "psutil                5.9.0\n",
      "pure-eval             0.2.2\n",
      "pycparser             2.21\n",
      "Pygments              2.15.1\n",
      "pyOpenSSL             23.2.0\n",
      "PyQt5                 5.15.7\n",
      "PyQt5-sip             12.11.0\n",
      "pyrsistent            0.18.0\n",
      "PySocks               1.7.1\n",
      "python-dateutil       2.8.2\n",
      "python-json-logger    2.0.7\n",
      "pytz                  2023.3.post1\n",
      "pywin32               305.1\n",
      "pywinpty              2.0.10\n",
      "PyYAML                6.0.1\n",
      "pyzmq                 23.2.0\n",
      "qtconsole             5.4.2\n",
      "QtPy                  2.2.0\n",
      "requests              2.31.0\n",
      "rfc3339-validator     0.1.4\n",
      "rfc3986-validator     0.1.1\n",
      "scikit-learn          1.3.2\n",
      "scipy                 1.11.3\n",
      "Send2Trash            1.8.0\n",
      "setuptools            68.0.0\n",
      "sip                   6.6.2\n",
      "six                   1.16.0\n",
      "sniffio               1.2.0\n",
      "soupsieve             2.5\n",
      "stack-data            0.2.0\n",
      "terminado             0.17.1\n",
      "threadpoolctl         3.2.0\n",
      "tinycss2              1.2.1\n",
      "toml                  0.10.2\n",
      "tomli                 2.0.1\n",
      "tornado               6.3.3\n",
      "traitlets             5.7.1\n",
      "typing_extensions     4.7.1\n",
      "tzdata                2023.3\n",
      "urllib3               1.26.18\n",
      "wcwidth               0.2.5\n",
      "webencodings          0.5.1\n",
      "websocket-client      0.58.0\n",
      "wheel                 0.41.2\n",
      "widgetsnbextension    4.0.5\n",
      "win-inet-pton         1.1.0\n",
      "y-py                  0.5.9\n",
      "ypy-websocket         0.8.2\n"
     ]
    }
   ],
   "source": [
    "# liste des packages avec pip\n",
    "!pip list"
   ]
  },
  {
   "cell_type": "code",
   "execution_count": 25,
   "id": "f6ecc99c-aeed-4dcc-beba-0d50289d2d50",
   "metadata": {},
   "outputs": [],
   "source": [
    "# create requirements.txt and list the packages in it using conda\n",
    "!conda list > requirements.txt"
   ]
  },
  {
   "cell_type": "markdown",
   "id": "6a62ae2d-c61a-42c2-a75a-d00669af936b",
   "metadata": {},
   "source": [
    "## Installer des packages listés dans le fichier requirements.txt\n",
    "\n",
    "```shell\n",
    "# Installation avec conda\n",
    "!conda install -c conda-forge --file requirements.txt\n",
    "```\n",
    "\n",
    "## organisation de dossiers quand vous commencez un nouveau projet\n",
    "\n",
    "Il est recommandé d'avoir une organisation de dossiers claire. Par exemple on la workflow ci-dessous:\n",
    "\n",
    "```python\n",
    "# Create a folder called `myproject`\n",
    "mkdir myproject\n",
    "\n",
    "# change directory to `myproject`\n",
    "cd myproject\n",
    "\n",
    "# Create folders notebook, src and data\n",
    "mkdir notebook src data\n",
    "\n",
    "# list all folders and create ___init__.py in each folders\n",
    "\n",
    "```\n",
    "\n",
    "Dans Python, un package est simplement un moyen d'organiser des modules connexes dans une hiérarchie de répertoires unique. Le fichier `__init__.py` sert d'initialiseur pour le package, et sa présence indique à Python qu'un répertoire doit être traité comme un package ou un sous-package.\n",
    "\n",
    "Lorsqu'un package est importé, le fichier `__init__.py` est implicitement exécuté, et les objets qu'il définit sont liés à des noms dans l'espace de noms du package ¹. Le fichier `__init__.py` peut contenir le même code Python que tout autre module et Python ajoutera quelques attributs supplémentaires au module lorsqu'il est importé.\n",
    "\n",
    "Le fichier `__init__.py` est également utilisé pour créer des packages imbriqués. Par exemple, si vous avez un répertoire `foo` qui contient un fichier `__init__.py`, vous pouvez créer un sous-répertoire `bar` qui contient également un fichier `__init__.py`. Cela créera un package imbriqué appelé `foo.bar`."
   ]
  },
  {
   "cell_type": "code",
   "execution_count": 29,
   "id": "9dc77b6f-ff58-4d54-9c3b-e387f396b0f5",
   "metadata": {},
   "outputs": [],
   "source": [
    "# folders creation\n",
    "!mkdir notebook src data"
   ]
  },
  {
   "cell_type": "code",
   "execution_count": 35,
   "id": "57124a63-e298-49ac-bacb-0fc71f09491a",
   "metadata": {},
   "outputs": [
    {
     "name": "stdout",
     "output_type": "stream",
     "text": [
      "done!\n"
     ]
    }
   ],
   "source": [
    "# function to list all folders and create __init__.py in each folder\n",
    "#!find . -type d -exec touch {}/__init__.py \\;\n",
    "import os\n",
    "\n",
    "def create_init_files(root_dir):\n",
    "    \"\"\"Create __init__.py in each folder\"\"\"\n",
    "    for dirpath, dirnames, filenames in os.walk(root_dir):\n",
    "        for dirname in dirnames:\n",
    "            init_file = os.path.join(dirpath, dirname, '__init__.py')\n",
    "            if not os.path.exists(init_file):\n",
    "                with open(init_file, 'w') as f:\n",
    "                    f.write('')\n",
    "\n",
    "create_init_files('.')\n",
    "print(\"done!\")"
   ]
  },
  {
   "cell_type": "markdown",
   "id": "5d0da130-a828-43fa-8d0f-11d64a23d961",
   "metadata": {},
   "source": [
    "Ensuite vous pouvez créer un fichier python `test_py.py` dans le dossier `src`."
   ]
  },
  {
   "cell_type": "code",
   "execution_count": 1,
   "id": "896e0a4e-eb5e-460c-ae74-67bc02277b8e",
   "metadata": {
    "tags": []
   },
   "outputs": [
    {
     "name": "stdout",
     "output_type": "stream",
     "text": [
      "Hello World!\n"
     ]
    }
   ],
   "source": [
    "# import d'une fonction du dossier src\n",
    "from src.test_py import hello\n",
    "\n",
    "hello()"
   ]
  },
  {
   "cell_type": "markdown",
   "id": "a9c213c2-a2f9-4b21-9cc8-3607451badec",
   "metadata": {},
   "source": [
    "## Suppression d'un environnement virtuel\n",
    "\n",
    "```python\n",
    "# delete the virtual environment sous linux\n",
    "!rm -rf myproject\n",
    "\n",
    "# delete the virtual environment sous windows avec conda\n",
    "!conda env remove -n myproject\n",
    "```"
   ]
  },
  {
   "cell_type": "markdown",
   "id": "bcee4b65-985c-494a-82a6-0a6fd3be1482",
   "metadata": {},
   "source": [
    "## Association d'un dosier local avec un repertoire virtuel\n",
    "\n",
    "1. ETape 1: création d'un repo test sur votre votre\n",
    "2. Suivre les étape ci-dessous depuis un terminal:\n",
    "```bash\n",
    "echo \"# test\" >> README.md\n",
    "git init\n",
    "git add README.md\n",
    "git commit -m \"first commit\"\n",
    "git branch -M main\n",
    "git remote add origin https://github.com/ssime-git/test.git\n",
    "git push -u origin main\n",
    "```\n",
    "\n",
    "## Création de repo Github depuis un invite de commande (pour des utilisations avancées)\n",
    "\n",
    "En régle générale, on peut créer les repo github depuis le navigateur internet. C'est la méthode la plus simple. Il est possible de créer un dépôt GitHub à partir d'une invite de commande en utilisant l'outil `hub`. `hub` est une extension de la ligne de commande Git qui ajoute des fonctionnalités GitHub. Vous pouvez utiliser la commande `hub create` pour créer un nouveau dépôt sur GitHub. Voici les étapes à suivre:\n",
    "\n",
    "1. Installez `hub` en suivant les instructions sur le site officiel de `hub`.\n",
    "\n",
    "2. Ouvrez une invite de commande et accédez au répertoire local que vous souhaitez pousser vers GitHub.\n",
    "\n",
    "3. Exécutez la commande `git init` pour initialiser un nouveau référentiel Git.\n",
    "\n",
    "4. Exécutez la commande `hub create` pour créer un nouveau dépôt sur GitHub.\n",
    "\n",
    "5. Suivez les invites pour configurer le dépôt, y compris le nom, la description et la visibilité.\n",
    "\n",
    "6. Exécutez la commande `git push -u origin master` pour pousser votre code local vers le dépôt distant.\n",
    "\n",
    "Cela créera un nouveau dépôt sur GitHub à partir de l'invite de commande et poussera votre code local vers le dépôt distant.\n",
    "\n",
    "Pour plus de détails voir https://hub.github.com/.\n",
    "\n",
    "# Conclusion\n",
    "\n",
    "Vous voilà prêt à démarrer vos projets avec Github, Jupyter Notebook, Vs Code et Python!"
   ]
  }
 ],
 "metadata": {
  "kernelspec": {
   "display_name": "Python 3 (ipykernel)",
   "language": "python",
   "name": "python3"
  },
  "language_info": {
   "codemirror_mode": {
    "name": "ipython",
    "version": 3
   },
   "file_extension": ".py",
   "mimetype": "text/x-python",
   "name": "python",
   "nbconvert_exporter": "python",
   "pygments_lexer": "ipython3",
   "version": "3.11.5"
  }
 },
 "nbformat": 4,
 "nbformat_minor": 5
}
